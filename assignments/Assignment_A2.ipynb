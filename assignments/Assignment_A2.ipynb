{
 "cells": [
  {
   "cell_type": "markdown",
   "metadata": {},
   "source": [
    "# Assignment A2: Topic Modeling and Text ML"
   ]
  },
  {
   "cell_type": "markdown",
   "metadata": {},
   "source": [
    "Covering material from Notebooks 5 and 6"
   ]
  },
  {
   "cell_type": "code",
   "execution_count": 6,
   "metadata": {},
   "outputs": [],
   "source": [
    "#Import the AG news dataset (same as hw01)\n",
    "#Download them from here \n",
    "#!wget https://raw.githubusercontent.com/mhjabreel/CharCnn_Keras/master/data/ag_news_csv/train.csv\n",
    "\n",
    "import pandas as pd\n",
    "import nltk\n",
    "df = pd.read_csv('train.csv')\n",
    "\n",
    "df.columns = [\"label\", \"title\", \"lead\"]\n",
    "label_map = {1:\"world\", 2:\"sport\", 3:\"business\", 4:\"sci/tech\"}\n",
    "def replace_label(x):\n",
    "\treturn label_map[x]\n",
    "df[\"label\"] = df[\"label\"].apply(replace_label) \n",
    "df[\"text\"] = df[\"title\"] + \" \" + df[\"lead\"]\n",
    "df.head()\n",
    "\n",
    "\n",
    "import spacy\n",
    "dfs = df.sample(200)\n",
    "nlp = spacy.load('en_core_web_md')"
   ]
  },
  {
   "cell_type": "markdown",
   "metadata": {},
   "source": [
    "# A. Dimension Reduction"
   ]
  },
  {
   "cell_type": "markdown",
   "metadata": {},
   "source": [
    "## PCA"
   ]
  },
  {
   "cell_type": "code",
   "execution_count": 9,
   "metadata": {},
   "outputs": [
    {
     "name": "stdout",
     "output_type": "stream",
     "text": [
      "[[1.        ]\n",
      " [0.99110823]\n",
      " [0.98403761]\n",
      " [0.95963776]]\n",
      "Former star bowler Lillee ends coaching role at Australian academy Fast bowling great Dennis Lillee has cut ties with Australia #39;s Cricket Academy after failing to come to terms on a new coaching contract.\n",
      "\n",
      "Israel Turns Up Heat on Palestinian Hunger Strike  JERUSALEM (Reuters) - Israel declared psychological war on  hunger-striking Palestinian prisoners on Monday, saying it  would barbecue meat outside their cells to try to break their  will.\n",
      "\n",
      "EU fast-tracks action to end institutional limbo Incoming European Commission head Jose Manuel Barroso acted Friday to end an unprecedented EU stalemate, by arranging fast-track confirmation hearings for his re-arranged Brussels executive team.\n",
      "\n",
      "Steroid shock waves ASSOCIATED PRESS ASSOCIATED PRESS ASSOCIATED &lt;b&gt;...&lt;/b&gt; San Francisco Giants left fielder Barry Bonds, third on Major League Baseball #39;s career home run list, testified to a grand jury that he used a clear substance and a cream given to him by a trainer who was indicted in a steroid-distribution ring, but Bonds \n",
      "\n"
     ]
    }
   ],
   "source": [
    "from sklearn.decomposition import PCA\n",
    "pca = PCA(n_components=3,svd_solver='randomized')\n",
    "\n",
    "##TODO reduce the vectorized data using PCA\n",
    "from sklearn.feature_extraction.text import CountVectorizer\n",
    "import numpy as np\n",
    "hv = CountVectorizer()\n",
    "X = hv.fit_transform(dfs[\"text\"]) \n",
    "X = np.array(X.todense())  # type: ignore\n",
    "X_pca = pca.fit_transform(X)\n",
    "##TODO compute again cosine similarity with the reduced version for the first 200 snippets\n",
    "from sklearn.metrics.pairwise import cosine_similarity\n",
    "similarities = cosine_similarity(X_pca, X_pca[0,:].reshape(1,-1))\n",
    "##TODO for the first snippet, show again its three most similar snippets\n",
    "# ind = np.argpartition(similarities.reshape(1, -1), -3)[-3:]\n",
    "ind = (-similarities.reshape(1, -1)).argsort()\n",
    "\n",
    "# only keep top 3\n",
    "ind = ind[0][:4]\n",
    "\n",
    "# similarity scores of top three\n",
    "print(similarities[ind])\n",
    "\n",
    "# print orignal sentence and the three most similar snippets \n",
    "for i in ind:\n",
    "    print(str(dfs.iloc[i,3]) + \"\\n\")"
   ]
  },
  {
   "cell_type": "markdown",
   "metadata": {},
   "source": [
    "Compare the cosine similarity between docs before and after PCA reduction. Did the results change? "
   ]
  },
  {
   "cell_type": "markdown",
   "metadata": {},
   "source": [
    "## Topic Modeling with LDA"
   ]
  },
  {
   "cell_type": "markdown",
   "metadata": {},
   "source": [
    "For this part you will need to use LDA Mallet. If you cannot have Mallet run, you can use the simple LDA algorithm "
   ]
  },
  {
   "cell_type": "code",
   "execution_count": 18,
   "metadata": {},
   "outputs": [
    {
     "ename": "TypeError",
     "evalue": "doc2bow expects an array of unicode tokens on input, not a single string",
     "output_type": "error",
     "traceback": [
      "\u001b[0;31m---------------------------------------------------------------------------\u001b[0m",
      "\u001b[0;31mTypeError\u001b[0m                                 Traceback (most recent call last)",
      "\u001b[0;32m/var/folders/wv/71w690vx7rvc38wj5vq03x040000gn/T/ipykernel_8831/3184998896.py\u001b[0m in \u001b[0;36m<module>\u001b[0;34m\u001b[0m\n\u001b[1;32m     11\u001b[0m                       (chunk.is_punct or chunk.is_stop)] for doc in docs]\n\u001b[1;32m     12\u001b[0m \u001b[0mdfs\u001b[0m\u001b[0;34m[\u001b[0m\u001b[0;34m\"text_clean\"\u001b[0m\u001b[0;34m]\u001b[0m \u001b[0;34m=\u001b[0m \u001b[0mdfs\u001b[0m\u001b[0;34m[\u001b[0m\u001b[0;34m\"text_clean\"\u001b[0m\u001b[0;34m]\u001b[0m\u001b[0;34m.\u001b[0m\u001b[0mstr\u001b[0m\u001b[0;34m.\u001b[0m\u001b[0mjoin\u001b[0m\u001b[0;34m(\u001b[0m\u001b[0;34m\" \"\u001b[0m\u001b[0;34m)\u001b[0m\u001b[0;34m\u001b[0m\u001b[0;34m\u001b[0m\u001b[0m\n\u001b[0;32m---> 13\u001b[0;31m \u001b[0mdict\u001b[0m \u001b[0;34m=\u001b[0m \u001b[0mDictionary\u001b[0m\u001b[0;34m(\u001b[0m\u001b[0mdfs\u001b[0m\u001b[0;34m[\u001b[0m\u001b[0;34m\"text_clean\"\u001b[0m\u001b[0;34m]\u001b[0m\u001b[0;34m)\u001b[0m\u001b[0;34m\u001b[0m\u001b[0;34m\u001b[0m\u001b[0m\n\u001b[0m\u001b[1;32m     14\u001b[0m \u001b[0;34m\u001b[0m\u001b[0m\n\u001b[1;32m     15\u001b[0m \u001b[0;31m##TODO create the doc_term_matrix\u001b[0m\u001b[0;34m\u001b[0m\u001b[0;34m\u001b[0m\u001b[0m\n",
      "\u001b[0;32m~/opt/anaconda3/lib/python3.9/site-packages/gensim/corpora/dictionary.py\u001b[0m in \u001b[0;36m__init__\u001b[0;34m(self, documents, prune_at)\u001b[0m\n\u001b[1;32m     76\u001b[0m \u001b[0;34m\u001b[0m\u001b[0m\n\u001b[1;32m     77\u001b[0m         \u001b[0;32mif\u001b[0m \u001b[0mdocuments\u001b[0m \u001b[0;32mis\u001b[0m \u001b[0;32mnot\u001b[0m \u001b[0;32mNone\u001b[0m\u001b[0;34m:\u001b[0m\u001b[0;34m\u001b[0m\u001b[0;34m\u001b[0m\u001b[0m\n\u001b[0;32m---> 78\u001b[0;31m             \u001b[0mself\u001b[0m\u001b[0;34m.\u001b[0m\u001b[0madd_documents\u001b[0m\u001b[0;34m(\u001b[0m\u001b[0mdocuments\u001b[0m\u001b[0;34m,\u001b[0m \u001b[0mprune_at\u001b[0m\u001b[0;34m=\u001b[0m\u001b[0mprune_at\u001b[0m\u001b[0;34m)\u001b[0m\u001b[0;34m\u001b[0m\u001b[0;34m\u001b[0m\u001b[0m\n\u001b[0m\u001b[1;32m     79\u001b[0m             self.add_lifecycle_event(\n\u001b[1;32m     80\u001b[0m                 \u001b[0;34m\"created\"\u001b[0m\u001b[0;34m,\u001b[0m\u001b[0;34m\u001b[0m\u001b[0;34m\u001b[0m\u001b[0m\n",
      "\u001b[0;32m~/opt/anaconda3/lib/python3.9/site-packages/gensim/corpora/dictionary.py\u001b[0m in \u001b[0;36madd_documents\u001b[0;34m(self, documents, prune_at)\u001b[0m\n\u001b[1;32m    200\u001b[0m                     \u001b[0mself\u001b[0m\u001b[0;34m.\u001b[0m\u001b[0mfilter_extremes\u001b[0m\u001b[0;34m(\u001b[0m\u001b[0mno_below\u001b[0m\u001b[0;34m=\u001b[0m\u001b[0;36m0\u001b[0m\u001b[0;34m,\u001b[0m \u001b[0mno_above\u001b[0m\u001b[0;34m=\u001b[0m\u001b[0;36m1.0\u001b[0m\u001b[0;34m,\u001b[0m \u001b[0mkeep_n\u001b[0m\u001b[0;34m=\u001b[0m\u001b[0mprune_at\u001b[0m\u001b[0;34m)\u001b[0m\u001b[0;34m\u001b[0m\u001b[0;34m\u001b[0m\u001b[0m\n\u001b[1;32m    201\u001b[0m                 \u001b[0mlogger\u001b[0m\u001b[0;34m.\u001b[0m\u001b[0minfo\u001b[0m\u001b[0;34m(\u001b[0m\u001b[0;34m\"adding document #%i to %s\"\u001b[0m\u001b[0;34m,\u001b[0m \u001b[0mdocno\u001b[0m\u001b[0;34m,\u001b[0m \u001b[0mself\u001b[0m\u001b[0;34m)\u001b[0m\u001b[0;34m\u001b[0m\u001b[0;34m\u001b[0m\u001b[0m\n\u001b[0;32m--> 202\u001b[0;31m \u001b[0;34m\u001b[0m\u001b[0m\n\u001b[0m\u001b[1;32m    203\u001b[0m             \u001b[0;31m# update Dictionary with the document\u001b[0m\u001b[0;34m\u001b[0m\u001b[0;34m\u001b[0m\u001b[0m\n\u001b[1;32m    204\u001b[0m             \u001b[0mself\u001b[0m\u001b[0;34m.\u001b[0m\u001b[0mdoc2bow\u001b[0m\u001b[0;34m(\u001b[0m\u001b[0mdocument\u001b[0m\u001b[0;34m,\u001b[0m \u001b[0mallow_update\u001b[0m\u001b[0;34m=\u001b[0m\u001b[0;32mTrue\u001b[0m\u001b[0;34m)\u001b[0m  \u001b[0;31m# ignore the result, here we only care about updating token ids\u001b[0m\u001b[0;34m\u001b[0m\u001b[0;34m\u001b[0m\u001b[0m\n",
      "\u001b[0;32m~/opt/anaconda3/lib/python3.9/site-packages/gensim/corpora/dictionary.py\u001b[0m in \u001b[0;36mdoc2bow\u001b[0;34m(self, document, allow_update, return_missing)\u001b[0m\n\u001b[1;32m    237\u001b[0m             \u001b[0;34m(\u001b[0m\u001b[0;34m[\u001b[0m\u001b[0;34m(\u001b[0m\u001b[0;36m2\u001b[0m\u001b[0;34m,\u001b[0m \u001b[0;36m1\u001b[0m\u001b[0;34m)\u001b[0m\u001b[0;34m]\u001b[0m\u001b[0;34m,\u001b[0m \u001b[0;34m{\u001b[0m\u001b[0;34mu'this'\u001b[0m\u001b[0;34m:\u001b[0m \u001b[0;36m1\u001b[0m\u001b[0;34m,\u001b[0m \u001b[0;34mu'is'\u001b[0m\u001b[0;34m:\u001b[0m \u001b[0;36m1\u001b[0m\u001b[0;34m}\u001b[0m\u001b[0;34m)\u001b[0m\u001b[0;34m\u001b[0m\u001b[0;34m\u001b[0m\u001b[0m\n\u001b[1;32m    238\u001b[0m \u001b[0;34m\u001b[0m\u001b[0m\n\u001b[0;32m--> 239\u001b[0;31m         \"\"\"\n\u001b[0m\u001b[1;32m    240\u001b[0m         \u001b[0;32mif\u001b[0m \u001b[0misinstance\u001b[0m\u001b[0;34m(\u001b[0m\u001b[0mdocument\u001b[0m\u001b[0;34m,\u001b[0m \u001b[0mstr\u001b[0m\u001b[0;34m)\u001b[0m\u001b[0;34m:\u001b[0m\u001b[0;34m\u001b[0m\u001b[0;34m\u001b[0m\u001b[0m\n\u001b[1;32m    241\u001b[0m             \u001b[0;32mraise\u001b[0m \u001b[0mTypeError\u001b[0m\u001b[0;34m(\u001b[0m\u001b[0;34m\"doc2bow expects an array of unicode tokens on input, not a single string\"\u001b[0m\u001b[0;34m)\u001b[0m\u001b[0;34m\u001b[0m\u001b[0;34m\u001b[0m\u001b[0m\n",
      "\u001b[0;31mTypeError\u001b[0m: doc2bow expects an array of unicode tokens on input, not a single string"
     ]
    }
   ],
   "source": [
    "from gensim.corpora import Dictionary\n",
    "from gensim.models import LdaModel\n",
    "from gensim.models.coherencemodel import CoherenceModel\n",
    "\n",
    "##TODO create a dictionary with the pre-processed tokenized text and filter it according to frequencies and keeping 1000 vocabularies\n",
    "import spacy\n",
    "nlp = spacy.load('en_core_web_md')\n",
    "\n",
    "docs = list(nlp.pipe(dfs[\"text\"]))\n",
    "dfs[\"text_clean\"] = [[chunk.text.lower() for chunk in doc if not \n",
    "                      (chunk.is_punct or chunk.is_stop)] for doc in docs]\n",
    "dfs[\"text_clean\"] = dfs[\"text_clean\"].str.join(\" \")\n",
    "dict = Dictionary(dfs[\"text_clean\"], prune_at=1000)\n",
    "\n",
    "##TODO create the doc_term_matrix\n",
    "dict = dict.doc2bow(dfs[\"text_clean\"])\n"
   ]
  },
  {
   "cell_type": "code",
   "execution_count": null,
   "metadata": {},
   "outputs": [],
   "source": [
    "##TODO train a LDA Mallet model with 5, 10 and 15 topics\n",
    "##TODO compute the coherence score for each of these model and print the topics from the model with highest coherence score"
   ]
  },
  {
   "cell_type": "code",
   "execution_count": null,
   "metadata": {},
   "outputs": [],
   "source": [
    "import pyLDAvis.gensim\n",
    "##TODO using LDAvis visualize the topics using the optimal number of topics"
   ]
  },
  {
   "cell_type": "markdown",
   "metadata": {},
   "source": [
    "# B. Supervised Learning"
   ]
  },
  {
   "cell_type": "markdown",
   "metadata": {
    "tags": []
   },
   "source": [
    "## Load and Pre-process Text\n",
    "We do sentiment analysis on the [Movie Review Data](https://www.cs.cornell.edu/people/pabo/movie-review-data/). If you would like to know more about the data, have a look at [the paper](https://www.cs.cornell.edu/home/llee/papers/pang-lee-stars.pdf) (but no need to do so)."
   ]
  },
  {
   "cell_type": "code",
   "execution_count": 19,
   "metadata": {},
   "outputs": [
    {
     "name": "stdout",
     "output_type": "stream",
     "text": [
      "--2022-11-13 13:20:40--  https://www.cs.cornell.edu/people/pabo/movie-review-data/scale_data.tar.gz\n",
      "Resolving www.cs.cornell.edu (www.cs.cornell.edu)... 132.236.207.36\n",
      "Connecting to www.cs.cornell.edu (www.cs.cornell.edu)|132.236.207.36|:443... connected.\n",
      "HTTP request sent, awaiting response... 200 OK\n",
      "Length: 4029756 (3.8M) [application/x-gzip]\n",
      "Saving to: 'scale_data.tar.gz'\n",
      "\n",
      "scale_data.tar.gz   100%[===================>]   3.84M  3.21MB/s    in 1.2s    \n",
      "\n",
      "2022-11-13 13:20:43 (3.21 MB/s) - 'scale_data.tar.gz' saved [4029756/4029756]\n",
      "\n",
      "--2022-11-13 13:20:43--  https://www.cs.cornell.edu/people/pabo/movie-review-data/scale_whole_review.tar.gz\n",
      "Resolving www.cs.cornell.edu (www.cs.cornell.edu)... 132.236.207.36\n",
      "Connecting to www.cs.cornell.edu (www.cs.cornell.edu)|132.236.207.36|:443... connected.\n",
      "HTTP request sent, awaiting response... 200 OK\n",
      "Length: 8853204 (8.4M) [application/x-gzip]\n",
      "Saving to: 'scale_whole_review.tar.gz'\n",
      "\n",
      "scale_whole_review. 100%[===================>]   8.44M  1.77MB/s    in 5.5s    \n",
      "\n",
      "2022-11-13 13:20:49 (1.54 MB/s) - 'scale_whole_review.tar.gz' saved [8853204/8853204]\n",
      "\n"
     ]
    }
   ],
   "source": [
    "# In this tutorial, we do sentiment analysis\n",
    "# download the data\n",
    "#!wget https://ai.stanford.edu/~amaas/data/sentiment/aclImdb_v1.tar.gz\n",
    "#!tar xf aclImdb_v1.tar.gz\n",
    "\n",
    "!wget https://www.cs.cornell.edu/people/pabo/movie-review-data/scale_data.tar.gz\n",
    "!wget https://www.cs.cornell.edu/people/pabo/movie-review-data/scale_whole_review.tar.gz\n",
    " \n",
    "!tar xf scale_data.tar.gz \n",
    "!tar xf scale_whole_review.tar.gz"
   ]
  },
  {
   "cell_type": "markdown",
   "metadata": {},
   "source": [
    "First, we have to load the data for which we provide the function below. Note how we also preprocess the text using gensim's simple_preprocess() function and how we already split the data into a train and test split."
   ]
  },
  {
   "cell_type": "code",
   "execution_count": 108,
   "metadata": {},
   "outputs": [
    {
     "name": "stdout",
     "output_type": "stream",
     "text": [
      "text: bloody child the director writer cinematographer nina menkes screenwriter tinka menkes editors nina and tina menkes cast tinka menkes captain sherry sibley murdered wife robert mueller murderer russ little sergeant jack hara enlisted man runtime mirage reviewed by dennis schwartz an amazingly strange film confusing and not thoroughly enjoyable but film found more interesting than thought possible at first viewing this experimental film in minimalist story telling film consisting of disturbing visualizations and almost no dialogue had concept that was greater than how the film turned out it felt at times like was watching paint dry on the wall but the reward for sitting through those excruciatingly redundant scenes was in seeing something different something that cast spell of sorcery over terrible incident as believe the film in its unique and sometimes shrill voice does justice in commenting on the violence in american society especially against women the film uses its impressions of the marine base as metaphor for the social violence in today american society and to give it its startling look of reality marines were used as the actors it was filmed at twenty nine palms calif the largest marine base in the country which is located in the mojave desert the plot is simple it is about real incident that happened to marine returning from the persian gulf war who murdered his wife and was caught at sunrise digging her grave in the mojave desert by military patrol the film tells its story by showing the military police by the murder site making small talk while awaiting for the arrest to be completed and the marines off base relaxing in country and western lounge as some marines lewdly dance in front of some female patrons the film boredom is broken up by camera shots of marines in conversations that we can hear in its entirety but are treated to little snippets of hearing mostly their curse words the captain in charge of the arrest is tinka menkes the director sister she tries to get the male marines to take this incident seriously and act professional as they treat her as an outsider but with proper military respect because the film had no linear story and followed no chronological order and it stressed the mundaneness of life on the base and did not film its story in the usual way murder investigation is filmed it appeared surreal for whatever reason nina menkes the great sadness of zohara magdalena viraga queen of diamonds director am not familiar with has chosen to put parts of macbeth into the film the disembodied voice of the murdered wife is heard at times as the voice of violated spirit along with scenes from northeast africa tinka is sitting naked in the forest clearing writing unreadable words on her arm there is also riderless black horse going on the base and the film ends on quote from the book of genesis about lot wife turned into pillar of salt when she looked back thought these additions seemed to serve mostly as unneeded arty pretext the arrested marine is not seen in total but is viewed from side glances of him in the same car as his bloodied dead wife military policeman is seen shoving the marine face into his dead wife bloody lap and yelling some nearly inaudible obscenities at him the film tells nothing about the why and how of the murder but touches on the reality of life on the marine base making it seem like wasteland inhabited only by those sent to purgatory the unsettling milieu in which the crime took place speaks volumes about why the murder might have taken place the film seems to be telling us that it up to us to make sense of what we ve seen though the film was dull and did not move me while was watching it it did something to me afterwards intellectually it made me think of military base the persian gulf war and of marital abuse but it made me think of them without the usual concepts bring to my thinking cap does that make this great film no but it makes it an interesting one film that can easily dismiss its filming of the arrest is so chilling and memorable because what is so dull and ordinary about the crime scene is the understated reason for the origin of the violence contrary to the way hollywood films portray violence here it is part of the landscape that one regularly sees but perhaps one doesn really understand or want to understand what evil society has created reviewed on dennis schwartz ozus world movie reviews all rights reserved dennis schwartz \n",
      "label: 0.6\n"
     ]
    }
   ],
   "source": [
    "import os\n",
    "from gensim.utils import simple_preprocess\n",
    "def load_data():\n",
    "    examples, labels = [], []\n",
    "    authors = os.listdir(\"scale_whole_review\")\n",
    "    for author in authors:\n",
    "        path = os.listdir(os.path.join(\"scale_whole_review\", author, \"txt.parag\"))\n",
    "        fn_ids = os.path.join(\"scaledata\", author, \"id.\" + author)\n",
    "        fn_ratings = os.path.join(\"scaledata\", author, \"rating.\" + author)\n",
    "        with open(fn_ids) as ids, open(fn_ratings) as ratings:\n",
    "            for idx, rating in zip(ids, ratings):\n",
    "                labels.append(float(rating.strip()))\n",
    "                filename_text = os.path.join(\"scale_whole_review\", author, \"txt.parag\", idx.strip() + \".txt\")\n",
    "                with open(filename_text, encoding='latin-1') as f:\n",
    "                    examples.append(\" \".join(simple_preprocess(f.read())))\n",
    "    return examples, labels\n",
    "                  \n",
    "X,y  = load_data()\n",
    "from sklearn.model_selection import train_test_split\n",
    "X_train, X_test, y_train, y_test = train_test_split(X, y, test_size=0.33, random_state=42)\n",
    "print (\"text:\", X_train[0], \"\\nlabel:\", y_train[0])"
   ]
  },
  {
   "cell_type": "markdown",
   "metadata": {},
   "source": [
    "## Vectorize the data"
   ]
  },
  {
   "cell_type": "code",
   "execution_count": 110,
   "metadata": {},
   "outputs": [
    {
     "name": "stderr",
     "output_type": "stream",
     "text": [
      "/Users/elliotbeck/opt/anaconda3/lib/python3.9/site-packages/sklearn/utils/deprecation.py:87: FutureWarning: Function get_feature_names is deprecated; get_feature_names is deprecated in 1.0 and will be removed in 1.2. Please use get_feature_names_out instead.\n",
      "  warnings.warn(msg, category=FutureWarning)\n"
     ]
    },
    {
     "name": "stdout",
     "output_type": "stream",
     "text": [
      "(3354, 5593)\n"
     ]
    },
    {
     "name": "stderr",
     "output_type": "stream",
     "text": [
      "/Users/elliotbeck/opt/anaconda3/lib/python3.9/site-packages/sklearn/utils/deprecation.py:87: FutureWarning: Function get_feature_names is deprecated; get_feature_names is deprecated in 1.0 and will be removed in 1.2. Please use get_feature_names_out instead.\n",
      "  warnings.warn(msg, category=FutureWarning)\n"
     ]
    },
    {
     "name": "stdout",
     "output_type": "stream",
     "text": [
      "<bound method DataFrame.info of       aaron  abandon  abandoned  abilities  ability  able  ably  aboard  \\\n",
      "0       0.0      0.0        0.0        0.0      0.0   0.0   0.0     0.0   \n",
      "1       0.0      0.0        0.0        0.0      0.0   0.0   0.0     0.0   \n",
      "2       0.0      0.0        0.0        0.0      0.0   0.0   0.0     0.0   \n",
      "3       0.0      0.0        0.0        0.0      0.0   0.0   0.0     0.0   \n",
      "4       0.0      0.0        0.0        0.0      0.0   0.0   0.0     0.0   \n",
      "...     ...      ...        ...        ...      ...   ...   ...     ...   \n",
      "1647    0.0      0.0        0.0        0.0      0.0   0.0   0.0     0.0   \n",
      "1648    0.0      0.0        0.0        0.0      0.0   0.0   0.0     0.0   \n",
      "1649    0.0      0.0        0.0        0.0      0.0   0.0   0.0     0.0   \n",
      "1650    0.0      0.0        0.0        0.0      0.0   0.0   0.0     0.0   \n",
      "1651    0.0      0.0        0.0        0.0      0.0   0.0   0.0     0.0   \n",
      "\n",
      "      absence  absent  ...  young girl  young man  young son  young woman  \\\n",
      "0         0.0     0.0  ...         0.0        0.0        0.0          0.0   \n",
      "1         0.0     0.0  ...         0.0        0.0        0.0          0.0   \n",
      "2         0.0     0.0  ...         0.0        0.0        0.0          0.0   \n",
      "3         0.0     0.0  ...         0.0        0.0        0.0          0.0   \n",
      "4         0.0     0.0  ...         0.0        0.0        0.0          0.0   \n",
      "...       ...     ...  ...         ...        ...        ...          ...   \n",
      "1647      0.0     0.0  ...         0.0        0.0        0.0          0.0   \n",
      "1648      0.0     0.0  ...         0.0        0.0        0.0          0.0   \n",
      "1649      0.0     0.0  ...         0.0        0.0        0.0          0.0   \n",
      "1650      0.0     0.0  ...         0.0        0.0        0.0          0.0   \n",
      "1651      0.0     0.0  ...         0.0        0.0        0.0          0.0   \n",
      "\n",
      "      younger  younger brother  youngest  youngster  youngsters  youth  \n",
      "0         0.0              0.0       0.0        0.0    0.000000    0.0  \n",
      "1         0.0              0.0       0.0        0.0    0.000000    0.0  \n",
      "2         0.0              0.0       0.0        0.0    0.000000    0.0  \n",
      "3         0.0              0.0       0.0        0.0    0.000000    0.0  \n",
      "4         0.0              0.0       0.0        0.0    0.000000    0.0  \n",
      "...       ...              ...       ...        ...         ...    ...  \n",
      "1647      0.0              0.0       0.0        0.0    0.000000    0.0  \n",
      "1648      0.0              0.0       0.0        0.0    0.000000    0.0  \n",
      "1649      0.0              0.0       0.0        0.0    0.000000    0.0  \n",
      "1650      0.0              0.0       0.0        0.0    0.068793    0.0  \n",
      "1651      0.0              0.0       0.0        0.0    0.000000    0.0  \n",
      "\n",
      "[1652 rows x 5593 columns]>\n"
     ]
    }
   ],
   "source": [
    "# train a TF_IDF Vectorizer on X_train and vectorize X_train and X_test\n",
    "from sklearn.feature_extraction.text import TfidfVectorizer\n",
    "\n",
    "vec = TfidfVectorizer(min_df=0.01, # at min 1% of docs\n",
    "                        max_df=.5,  \n",
    "                        stop_words='english',\n",
    "                        ngram_range=(1,2))\n",
    "\n",
    "##TODO train vectorizer\n",
    "vec.fit(X_train)\n",
    "\n",
    "##TODO transform X_train to TF-IDF values\n",
    "X_train_tfidf = vec.transform(X_train)\n",
    "feature_names = vec.get_feature_names()\n",
    "dense = X_train_tfidf.todense()\n",
    "lst1 = dense.tolist()\n",
    "X_train_tfidf = pd.DataFrame(lst1, columns=feature_names)\n",
    "print(X_train_tfidf.shape)\n",
    "\n",
    "##TODO transform X_test to TF-IDF values\n",
    "X_test_tfidf = vec.transform(X_test)\n",
    "feature_names = vec.get_feature_names()\n",
    "dense = X_test_tfidf.todense()\n",
    "lst1 = dense.tolist()\n",
    "X_test_tfidf = pd.DataFrame(lst1, columns=feature_names)\n",
    "print(X_test_tfidf.info)"
   ]
  },
  {
   "cell_type": "code",
   "execution_count": 113,
   "metadata": {},
   "outputs": [],
   "source": [
    "##TODO scale both training and test data with the standard scaler\n",
    "from sklearn.preprocessing import StandardScaler\n",
    "scaler = StandardScaler(with_mean=False)\n",
    "X_train_tfidf_scaled = scaler.fit_transform(X_train_tfidf)\n",
    "X_test_tfidf_scaled = scaler.transform(X_test_tfidf)"
   ]
  },
  {
   "cell_type": "markdown",
   "metadata": {},
   "source": [
    "## ElasticNet"
   ]
  },
  {
   "cell_type": "code",
   "execution_count": 119,
   "metadata": {},
   "outputs": [
    {
     "name": "stdout",
     "output_type": "stream",
     "text": [
      "0.49772890489643706 0.016535782264671527\n"
     ]
    }
   ],
   "source": [
    "##TODO train an elastic net on the transformed output of the scaler\n",
    "from sklearn.linear_model import ElasticNet\n",
    "\n",
    "en = ElasticNet(alpha=0.01)\n",
    "\n",
    "##TODO train the ElasticNet\n",
    "en.fit(X_train_tfidf_scaled, y_train)\n",
    "##TODO predict the testset\n",
    "preds = en.predict(X_test_tfidf_scaled)\n",
    "\n",
    "from sklearn.metrics import r2_score, accuracy_score, mean_squared_error, balanced_accuracy_score\n",
    "##TODO print mean squared error and r2 score on the test set\n",
    "r2 = r2_score(y_test, preds)\n",
    "# accur_score = accuracy_score(y_test, preds) doesn't work, we are not classifying\n",
    "mse = mean_squared_error(y_test, preds)\n",
    "# balanc_accur_score = balanced_accuracy_score(y_test, preds)\n",
    "print(r2, mse)"
   ]
  },
  {
   "cell_type": "markdown",
   "metadata": {},
   "source": [
    "## Logistic Regression"
   ]
  },
  {
   "cell_type": "markdown",
   "metadata": {},
   "source": [
    "Next, we train an OLS model doing binary prediction on these movie reviews. Two get two bins, we transform the continuous ratings into two classes, where one class contains all the negative ratings (value < 0.5), the other class all the positive ratings (value > 0.5)"
   ]
  },
  {
   "cell_type": "code",
   "execution_count": 120,
   "metadata": {},
   "outputs": [],
   "source": [
    "y_train = [1 if i >= 0.5 else 0 for i in y_train]\n",
    "y_test = [1 if i >= 0.5 else 0 for i in y_test]\n"
   ]
  },
  {
   "cell_type": "code",
   "execution_count": 121,
   "metadata": {},
   "outputs": [
    {
     "name": "stdout",
     "output_type": "stream",
     "text": [
      "0.8075060532687651\n",
      "Index(['great', 'effective', 'surprisingly', 'punches', 'success',\n",
      "       'fascinating', 'influenced', 'investigating', 'brilliant', 'best'],\n",
      "      dtype='object')\n"
     ]
    },
    {
     "name": "stderr",
     "output_type": "stream",
     "text": [
      "/Users/elliotbeck/opt/anaconda3/lib/python3.9/site-packages/sklearn/linear_model/_logistic.py:814: ConvergenceWarning: lbfgs failed to converge (status=1):\n",
      "STOP: TOTAL NO. of ITERATIONS REACHED LIMIT.\n",
      "\n",
      "Increase the number of iterations (max_iter) or scale the data as shown in:\n",
      "    https://scikit-learn.org/stable/modules/preprocessing.html\n",
      "Please also refer to the documentation for alternative solver options:\n",
      "    https://scikit-learn.org/stable/modules/linear_model.html#logistic-regression\n",
      "  n_iter_i = _check_optimize_result(\n"
     ]
    }
   ],
   "source": [
    "##TODO train logistic regression on X_train\n",
    "from sklearn.linear_model import LogisticRegression\n",
    "logistic_regression = LogisticRegression()\n",
    "\n",
    "##TODO train a logistic regression\n",
    "logistic_regression.fit(X_train_tfidf_scaled, y_train)\n",
    "\n",
    "##TODO predict the testset \n",
    "preds = logistic_regression.predict(X_test_tfidf_scaled)\n",
    "\n",
    "##since we have continuous output, we need to post-process our labels into two classes. We choose a threshold of 0.5 \n",
    "def map_predictions(predicted):\n",
    "    predicted = [1 if i > 0.5 else 0 for i in predicted]\n",
    "    return predicted\n",
    "\n",
    "##TODO print the accuracy of our classifier on the testset\n",
    "print(accuracy_score(y_test, map_predictions(preds)))\n",
    "\n",
    "## TODO print the 10 most informative words of the regression (the 10 words having the highest coefficients)\n",
    "idx = (-logistic_regression.coef_).argsort()\n",
    "idx = idx[0][:10]\n",
    "print(X_train_tfidf.columns[idx])  # type: ignore)"
   ]
  },
  {
   "cell_type": "markdown",
   "metadata": {},
   "source": [
    "## XGBoost"
   ]
  },
  {
   "cell_type": "markdown",
   "metadata": {},
   "source": [
    "Lastly, we train an XGBoost classifier to do topic prediction on the AG news dataset, which is a multi-class prediction problem (4 classes). We again have to vectorize the data, train the classifier, predict the testset and output an evaluation metric (we go for accuracy)."
   ]
  },
  {
   "cell_type": "code",
   "execution_count": 122,
   "id": "8f937451",
   "metadata": {},
   "outputs": [],
   "source": [
    "\n",
    "# vectorize the data\n",
    "from sklearn.feature_extraction.text import TfidfVectorizer\n",
    "\n",
    "# only consider 10% of the data\n",
    "dfs = df.sample(frac=0.1)\n",
    "\n",
    "# split into train and test\n",
    "X_train, X_test, y_train, y_test = train_test_split(dfs[\"text\"], dfs[\"label\"], test_size=0.33, random_state=42)\n",
    "\n",
    "vec = TfidfVectorizer(min_df=5, # at min 1% of docs\n",
    "                        max_df=.5,  \n",
    "                        stop_words='english',\n",
    "                        max_features=2000,\n",
    "                        ngram_range=(1,2))\n",
    "\n",
    "# transform into TF-IDF values\n",
    "X_train_tfidf = vec.fit_transform(X_train).todense()\n",
    "X_test_tfidf = vec.transform(X_test).todense()\n"
   ]
  },
  {
   "cell_type": "markdown",
   "metadata": {},
   "source": [
    "XGBoost provides an interface to SKLearn classifiers, e.g. they implement the same train and predict methods as an SKLearn classifier would. If you are interested in a more detailed overview, have a look at the [official documentation](https://xgboost.readthedocs.io/en/latest/python/index.html)."
   ]
  },
  {
   "cell_type": "code",
   "execution_count": 123,
   "metadata": {},
   "outputs": [
    {
     "name": "stdout",
     "output_type": "stream",
     "text": [
      "0.806060606060606\n"
     ]
    }
   ],
   "source": [
    "param_dist = {'objective':'multi:softmax', 'num_class': 5, 'n_estimators':25}\n",
    "# note how we only have 4 labels, but we need to pass \"num_class\": 5\n",
    "# if we pass \"num_class\": 4, we get the error \"label must be in [0, num_class).\"\n",
    "import xgboost as xgb\n",
    "from sklearn import preprocessing\n",
    "\n",
    "clf = xgb.XGBModel(**param_dist)\n",
    "\n",
    "##TODO train the XGBModel \n",
    "le = preprocessing.LabelEncoder()\n",
    "y_train = le.fit_transform(y_train)\n",
    "clf.fit(X_train_tfidf, y_train)\n",
    "\n",
    "##TODO predict the testset \n",
    "preds = clf.predict(X_test_tfidf)\n",
    "\n",
    "##TODO evaluate the predictions using accuracy as a metric\n",
    "le = preprocessing.LabelEncoder()\n",
    "y_test = le.fit_transform(y_test)\n",
    "print(accuracy_score(y_test, preds))"
   ]
  }
 ],
 "metadata": {
  "kernelspec": {
   "display_name": "base",
   "language": "python",
   "name": "python3"
  },
  "language_info": {
   "codemirror_mode": {
    "name": "ipython",
    "version": 3
   },
   "file_extension": ".py",
   "mimetype": "text/x-python",
   "name": "python",
   "nbconvert_exporter": "python",
   "pygments_lexer": "ipython3",
   "version": "3.9.13"
  },
  "vscode": {
   "interpreter": {
    "hash": "7847a2e259535c6ee3594af5f07a48848165b814e08df174595330ed14ca1dac"
   }
  }
 },
 "nbformat": 4,
 "nbformat_minor": 5
}
