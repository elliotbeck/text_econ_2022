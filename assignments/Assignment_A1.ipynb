{
 "cells": [
  {
   "cell_type": "markdown",
   "metadata": {},
   "source": [
    "# Assignment A1: Intro to Text Data, Tokenization, and Document Distance"
   ]
  },
  {
   "cell_type": "markdown",
   "metadata": {},
   "source": [
    "Covering material from Notebooks 2, 3, 4"
   ]
  },
  {
   "cell_type": "markdown",
   "metadata": {},
   "source": [
    "# Part A: Working with Text Data"
   ]
  },
  {
   "cell_type": "markdown",
   "metadata": {},
   "source": [
    "In this assignment, we will explore how to load a text classification dataset (AG's news, originally posted [here](http://groups.di.unipi.it/~gulli/AG_corpus_of_news_articles.html)), how we can preprocess the data and extract useful information from a real-world dataset. First, we have to download the data; we only download a subset of the data with four classes."
   ]
  },
  {
   "cell_type": "code",
   "execution_count": 1,
   "metadata": {
    "ExecuteTime": {
     "end_time": "2022-02-28T08:02:56.460494Z",
     "start_time": "2022-02-28T08:02:54.203477Z"
    }
   },
   "outputs": [
    {
     "name": "stdout",
     "output_type": "stream",
     "text": [
      "--2022-11-29 18:05:04--  https://raw.githubusercontent.com/mhjabreel/CharCnn_Keras/master/data/ag_news_csv/train.csv\n",
      "Resolving raw.githubusercontent.com (raw.githubusercontent.com)... 185.199.108.133, 185.199.109.133, 185.199.110.133, ...\n",
      "Connecting to raw.githubusercontent.com (raw.githubusercontent.com)|185.199.108.133|:443... connected.\n",
      "HTTP request sent, awaiting response... 200 OK\n",
      "Length: 29470338 (28M) [text/plain]\n",
      "Saving to: 'train.csv'\n",
      "\n",
      "train.csv           100%[===================>]  28.10M  4.87MB/s    in 6.4s    \n",
      "\n",
      "2022-11-29 18:05:12 (4.40 MB/s) - 'train.csv' saved [29470338/29470338]\n",
      "\n"
     ]
    }
   ],
   "source": [
    "!wget https://raw.githubusercontent.com/mhjabreel/CharCnn_Keras/master/data/ag_news_csv/train.csv"
   ]
  },
  {
   "cell_type": "markdown",
   "metadata": {},
   "source": [
    "## Inspect Data"
   ]
  },
  {
   "cell_type": "code",
   "execution_count": 2,
   "metadata": {
    "ExecuteTime": {
     "end_time": "2022-02-28T08:03:01.135211Z",
     "start_time": "2022-02-28T08:03:00.596810Z"
    }
   },
   "outputs": [
    {
     "name": "stdout",
     "output_type": "stream",
     "text": [
      "<class 'pandas.core.frame.DataFrame'>\n",
      "RangeIndex: 120000 entries, 0 to 119999\n",
      "Data columns (total 3 columns):\n",
      " #   Column  Non-Null Count   Dtype \n",
      "---  ------  --------------   ----- \n",
      " 0   0       120000 non-null  int64 \n",
      " 1   1       120000 non-null  object\n",
      " 2   2       120000 non-null  object\n",
      "dtypes: int64(1), object(2)\n",
      "memory usage: 2.7+ MB\n"
     ]
    },
    {
     "data": {
      "text/html": [
       "<div>\n",
       "<style scoped>\n",
       "    .dataframe tbody tr th:only-of-type {\n",
       "        vertical-align: middle;\n",
       "    }\n",
       "\n",
       "    .dataframe tbody tr th {\n",
       "        vertical-align: top;\n",
       "    }\n",
       "\n",
       "    .dataframe thead th {\n",
       "        text-align: right;\n",
       "    }\n",
       "</style>\n",
       "<table border=\"1\" class=\"dataframe\">\n",
       "  <thead>\n",
       "    <tr style=\"text-align: right;\">\n",
       "      <th></th>\n",
       "      <th>0</th>\n",
       "      <th>1</th>\n",
       "      <th>2</th>\n",
       "    </tr>\n",
       "  </thead>\n",
       "  <tbody>\n",
       "    <tr>\n",
       "      <th>0</th>\n",
       "      <td>3</td>\n",
       "      <td>Wall St. Bears Claw Back Into the Black (Reuters)</td>\n",
       "      <td>Reuters - Short-sellers, Wall Street's dwindli...</td>\n",
       "    </tr>\n",
       "    <tr>\n",
       "      <th>1</th>\n",
       "      <td>3</td>\n",
       "      <td>Carlyle Looks Toward Commercial Aerospace (Reu...</td>\n",
       "      <td>Reuters - Private investment firm Carlyle Grou...</td>\n",
       "    </tr>\n",
       "    <tr>\n",
       "      <th>2</th>\n",
       "      <td>3</td>\n",
       "      <td>Oil and Economy Cloud Stocks' Outlook (Reuters)</td>\n",
       "      <td>Reuters - Soaring crude prices plus worries\\ab...</td>\n",
       "    </tr>\n",
       "    <tr>\n",
       "      <th>3</th>\n",
       "      <td>3</td>\n",
       "      <td>Iraq Halts Oil Exports from Main Southern Pipe...</td>\n",
       "      <td>Reuters - Authorities have halted oil export\\f...</td>\n",
       "    </tr>\n",
       "    <tr>\n",
       "      <th>4</th>\n",
       "      <td>3</td>\n",
       "      <td>Oil prices soar to all-time record, posing new...</td>\n",
       "      <td>AFP - Tearaway world oil prices, toppling reco...</td>\n",
       "    </tr>\n",
       "  </tbody>\n",
       "</table>\n",
       "</div>"
      ],
      "text/plain": [
       "   0                                                  1  \\\n",
       "0  3  Wall St. Bears Claw Back Into the Black (Reuters)   \n",
       "1  3  Carlyle Looks Toward Commercial Aerospace (Reu...   \n",
       "2  3    Oil and Economy Cloud Stocks' Outlook (Reuters)   \n",
       "3  3  Iraq Halts Oil Exports from Main Southern Pipe...   \n",
       "4  3  Oil prices soar to all-time record, posing new...   \n",
       "\n",
       "                                                   2  \n",
       "0  Reuters - Short-sellers, Wall Street's dwindli...  \n",
       "1  Reuters - Private investment firm Carlyle Grou...  \n",
       "2  Reuters - Soaring crude prices plus worries\\ab...  \n",
       "3  Reuters - Authorities have halted oil export\\f...  \n",
       "4  AFP - Tearaway world oil prices, toppling reco...  "
      ]
     },
     "execution_count": 2,
     "metadata": {},
     "output_type": "execute_result"
    }
   ],
   "source": [
    "import pandas as pd\n",
    "df = pd.read_csv(\"train.csv\", header=None)\n",
    "df.info()\n",
    "df.head()"
   ]
  },
  {
   "cell_type": "markdown",
   "metadata": {},
   "source": [
    "Let's make the data more human readable by adding a header and replacing labels"
   ]
  },
  {
   "cell_type": "code",
   "execution_count": 3,
   "metadata": {},
   "outputs": [],
   "source": [
    "df.columns = [\"label\", \"title\", \"lead\"]\n",
    "label_map = {1:\"world\", 2:\"sport\", 3:\"business\", 4:\"sci/tech\"}\n",
    "def replace_label(x):\n",
    "\treturn label_map[x]\n",
    "df[\"label\"] = df[\"label\"].apply(replace_label) "
   ]
  },
  {
   "cell_type": "code",
   "execution_count": 4,
   "metadata": {},
   "outputs": [
    {
     "data": {
      "text/html": [
       "<div>\n",
       "<style scoped>\n",
       "    .dataframe tbody tr th:only-of-type {\n",
       "        vertical-align: middle;\n",
       "    }\n",
       "\n",
       "    .dataframe tbody tr th {\n",
       "        vertical-align: top;\n",
       "    }\n",
       "\n",
       "    .dataframe thead th {\n",
       "        text-align: right;\n",
       "    }\n",
       "</style>\n",
       "<table border=\"1\" class=\"dataframe\">\n",
       "  <thead>\n",
       "    <tr style=\"text-align: right;\">\n",
       "      <th></th>\n",
       "      <th>label</th>\n",
       "      <th>title</th>\n",
       "      <th>lead</th>\n",
       "    </tr>\n",
       "  </thead>\n",
       "  <tbody>\n",
       "    <tr>\n",
       "      <th>0</th>\n",
       "      <td>business</td>\n",
       "      <td>Wall St. Bears Claw Back Into the Black (Reuters)</td>\n",
       "      <td>Reuters - Short-sellers, Wall Street's dwindli...</td>\n",
       "    </tr>\n",
       "    <tr>\n",
       "      <th>1</th>\n",
       "      <td>business</td>\n",
       "      <td>Carlyle Looks Toward Commercial Aerospace (Reu...</td>\n",
       "      <td>Reuters - Private investment firm Carlyle Grou...</td>\n",
       "    </tr>\n",
       "    <tr>\n",
       "      <th>2</th>\n",
       "      <td>business</td>\n",
       "      <td>Oil and Economy Cloud Stocks' Outlook (Reuters)</td>\n",
       "      <td>Reuters - Soaring crude prices plus worries\\ab...</td>\n",
       "    </tr>\n",
       "    <tr>\n",
       "      <th>3</th>\n",
       "      <td>business</td>\n",
       "      <td>Iraq Halts Oil Exports from Main Southern Pipe...</td>\n",
       "      <td>Reuters - Authorities have halted oil export\\f...</td>\n",
       "    </tr>\n",
       "    <tr>\n",
       "      <th>4</th>\n",
       "      <td>business</td>\n",
       "      <td>Oil prices soar to all-time record, posing new...</td>\n",
       "      <td>AFP - Tearaway world oil prices, toppling reco...</td>\n",
       "    </tr>\n",
       "  </tbody>\n",
       "</table>\n",
       "</div>"
      ],
      "text/plain": [
       "      label                                              title  \\\n",
       "0  business  Wall St. Bears Claw Back Into the Black (Reuters)   \n",
       "1  business  Carlyle Looks Toward Commercial Aerospace (Reu...   \n",
       "2  business    Oil and Economy Cloud Stocks' Outlook (Reuters)   \n",
       "3  business  Iraq Halts Oil Exports from Main Southern Pipe...   \n",
       "4  business  Oil prices soar to all-time record, posing new...   \n",
       "\n",
       "                                                lead  \n",
       "0  Reuters - Short-sellers, Wall Street's dwindli...  \n",
       "1  Reuters - Private investment firm Carlyle Grou...  \n",
       "2  Reuters - Soaring crude prices plus worries\\ab...  \n",
       "3  Reuters - Authorities have halted oil export\\f...  \n",
       "4  AFP - Tearaway world oil prices, toppling reco...  "
      ]
     },
     "execution_count": 4,
     "metadata": {},
     "output_type": "execute_result"
    }
   ],
   "source": [
    "df.head()"
   ]
  },
  {
   "cell_type": "code",
   "execution_count": 5,
   "metadata": {},
   "outputs": [],
   "source": [
    "# TODO implement a new column text which contains the lowercased title and lead\n",
    "df[\"text\"] = df[\"title\"].str.lower() + \" \" + df[\"lead\"].str.lower()\n"
   ]
  },
  {
   "cell_type": "code",
   "execution_count": 6,
   "metadata": {},
   "outputs": [
    {
     "data": {
      "text/plain": [
       "business    30000\n",
       "sci/tech    30000\n",
       "sport       30000\n",
       "world       30000\n",
       "Name: label, dtype: int64"
      ]
     },
     "execution_count": 6,
     "metadata": {},
     "output_type": "execute_result"
    }
   ],
   "source": [
    "# TODO print the number of documents for each label\n",
    "df['label'].value_counts()"
   ]
  },
  {
   "cell_type": "markdown",
   "metadata": {},
   "source": [
    "## Document Length"
   ]
  },
  {
   "cell_type": "code",
   "execution_count": 7,
   "metadata": {},
   "outputs": [
    {
     "data": {
      "text/plain": [
       "<AxesSubplot:xlabel='label'>"
      ]
     },
     "execution_count": 7,
     "metadata": {},
     "output_type": "execute_result"
    },
    {
     "data": {
      "image/png": "[encoded data removed]",
      "text/plain": [
       "<Figure size 640x480 with 1 Axes>"
      ]
     },
     "metadata": {},
     "output_type": "display_data"
    }
   ],
   "source": [
    "# TODO create a new column with the number of words for each text\n",
    "# df[\"num_words\"] = df['text'].split().apply(len).value_counts()\n",
    "# df[\"num_words\"] = df[\"text\"].apply(lambda n: len(n.split()))\n",
    "df[\"num_words\"] = df[\"text\"].apply(lambda n: len(n.split()))\n",
    "\n",
    "# TODO plot the average number of words per label \n",
    "df.groupby('label')['num_words'].mean().plot(kind='bar')"
   ]
  },
  {
   "cell_type": "markdown",
   "metadata": {},
   "source": [
    "## Word Frequency "
   ]
  },
  {
   "cell_type": "markdown",
   "metadata": {},
   "source": [
    "Let's implement a keyword search (similar to the baker-bloom economic uncertainty) and compute how often some given keywords (\"play\", \"tax\", \"blackberry\", \"israel\") appear in the different classes in our data"
   ]
  },
  {
   "cell_type": "code",
   "execution_count": 8,
   "metadata": {},
   "outputs": [
    {
     "name": "stdout",
     "output_type": "stream",
     "text": [
      "8385\n",
      "label: business , keyword: play\n",
      "386\n",
      "label: sci/tech , keyword: play\n",
      "1929\n",
      "label: sport , keyword: play\n",
      "5666\n",
      "label: world , keyword: play\n",
      "404\n",
      "****************************************************************************************************\n",
      "1575\n",
      "label: business , keyword: tax\n",
      "1214\n",
      "label: sci/tech , keyword: tax\n",
      "101\n",
      "label: sport , keyword: tax\n",
      "31\n",
      "label: world , keyword: tax\n",
      "229\n",
      "****************************************************************************************************\n",
      "234\n",
      "label: business , keyword: blackberry\n",
      "44\n",
      "label: sci/tech , keyword: blackberry\n",
      "190\n",
      "label: sport , keyword: blackberry\n",
      "0\n",
      "label: world , keyword: blackberry\n",
      "0\n",
      "****************************************************************************************************\n",
      "3573\n",
      "label: business , keyword: israel\n",
      "25\n",
      "label: sci/tech , keyword: israel\n",
      "65\n",
      "label: sport , keyword: israel\n",
      "66\n",
      "label: world , keyword: israel\n",
      "3417\n",
      "****************************************************************************************************\n"
     ]
    }
   ],
   "source": [
    "import re\n",
    "keywords = [\"play\", \"tax\", \"blackberry\", \"israel\"]\n",
    "for keyword in keywords:\n",
    "    #TODO implement a regex pattern\n",
    "    x = keyword\n",
    "    pattern = re.compile(x)\n",
    "    def count_keyword_frequencies(x):\n",
    "        #TODO implement a function which counts how often a pattern appears in a text\n",
    "        num_occurrences = len(pattern.findall(x))\n",
    "        return num_occurrences\n",
    "    # Now, we can print how often a keyword appears in the data\n",
    "    print (df[\"text\"].apply(count_keyword_frequencies).sum())\n",
    "    # and we want to find out how often the keyword appears withhin each class\n",
    "    for label in df[\"label\"].unique():\n",
    "        print (\"label:\", label,\", keyword:\", keyword)\n",
    "        print (df.loc[df['label'] == label][\"text\"].apply(count_keyword_frequencies).sum())\n",
    "    print (\"*\" * 100)"
   ]
  },
  {
   "cell_type": "markdown",
   "metadata": {},
   "source": [
    "As a last exercise, we re-use the fuzzy keyword search implemented above and plot the total number of occurrences of \"tax\" (and it's variations, e.g. taxation, taxes etc.) for each class in the dataset. Hint: have a look at the [pandas bar plot with group by](https://queirozf.com/entries/pandas-dataframe-plot-examples-with-matplotlib-pyplot)"
   ]
  },
  {
   "cell_type": "code",
   "execution_count": 9,
   "metadata": {},
   "outputs": [
    {
     "data": {
      "text/plain": [
       "<AxesSubplot:xlabel='label'>"
      ]
     },
     "execution_count": 9,
     "metadata": {},
     "output_type": "execute_result"
    },
    {
     "data": {
      "image/png": "[encoded data removed]",
      "text/plain": [
       "<Figure size 640x480 with 1 Axes>"
      ]
     },
     "metadata": {},
     "output_type": "display_data"
    }
   ],
   "source": [
    "import matplotlib.pyplot as plt\n",
    "\n",
    "keyword = \"tax\"\n",
    "pattern = re.compile(keyword)\n",
    "\n",
    "def count_keyword_frequencies(x):\n",
    "    #TODO implement a function which counts the total number of the word \"tax\" (and other fuzzy matches of tax) appearing in a given text\n",
    "    num_occurrences = len(pattern.findall(x))\n",
    "    return num_occurrences\n",
    "\n",
    "df[\"counts\"] = df[\"text\"].apply(count_keyword_frequencies)\n",
    "#TODO create a bar plot for the wordcounts of \"tax\" for each class in the dataset\n",
    "df.groupby('label')['counts'].sum().plot(kind='bar')"
   ]
  },
  {
   "cell_type": "markdown",
   "metadata": {},
   "source": [
    "# Part B: Tokenization"
   ]
  },
  {
   "cell_type": "markdown",
   "metadata": {},
   "source": [
    "## Preprocess Text using spacy"
   ]
  },
  {
   "cell_type": "code",
   "execution_count": 11,
   "metadata": {},
   "outputs": [
    {
     "name": "stdout",
     "output_type": "stream",
     "text": [
      "A group of open-source software pioneers, led by Linux developer Linus Torvalds, has issued an appeal to the EU Council to block the legalization of software patents.\n"
     ]
    }
   ],
   "source": [
    "import spacy\n",
    "dfs = df.sample(200)\n",
    "nlp = spacy.load('en_core_web_md')\n",
    "\n",
    "##TODO use spacy to split the documents in the sampled dataframe (dfs) in sentences and tokens\n",
    "docs = list(nlp.pipe(dfs[\"lead\"]))\n",
    "\n",
    "##TODO print the first sentence of the first document in your sample\n",
    "for doc in docs: \n",
    "    print(next(doc.sents))\n",
    "    break"
   ]
  },
  {
   "cell_type": "code",
   "execution_count": 15,
   "metadata": {},
   "outputs": [
    {
     "name": "stdout",
     "output_type": "stream",
     "text": [
      "a DT\n",
      "group NN\n",
      "of IN\n",
      "open JJ\n",
      "- HYPH\n",
      "source NN\n",
      "software NN\n",
      "pioneer NNS\n",
      ", ,\n",
      "lead VBN\n",
      "by IN\n",
      "Linux NNP\n",
      "developer NN\n",
      "Linus NNP\n",
      "Torvalds NNP\n",
      ", ,\n",
      "have VBZ\n",
      "issue VBN\n",
      "an DT\n",
      "appeal NN\n",
      "to IN\n",
      "the DT\n",
      "EU NNP\n",
      "Council NNP\n",
      "to TO\n",
      "block VB\n",
      "the DT\n",
      "legalization NN\n",
      "of IN\n",
      "software NN\n",
      "patent NNS\n",
      ". .\n"
     ]
    }
   ],
   "source": [
    "##TODO create a new column with tokens in lowercase (x.lower()), without punctuation tokens (x.is_punct) nor stopwords (x.is_stop)\n",
    "dfs[\"text_clean\"] = [[chunk.text.lower() for chunk in doc if not \n",
    "                      (chunk.is_punct or chunk.is_stop)] for doc in docs]\n",
    "dfs[\"text_clean\"] = dfs[\"text_clean\"].str.join(\" \")\n",
    "\n",
    "##TODO print the tokens (x.lemma_) and the tags (x.tag_ ) of the first sentence of the first document (doc.sents)\n",
    "for doc in docs: \n",
    "    for sent in doc.sents:\n",
    "        for token in sent:\n",
    "            print(token.lemma_, token.tag_)\n",
    "        break\n",
    "    break"
   ]
  },
  {
   "cell_type": "markdown",
   "metadata": {},
   "source": [
    "### Noun Chunks"
   ]
  },
  {
   "cell_type": "code",
   "execution_count": 16,
   "metadata": {},
   "outputs": [
    {
     "name": "stdout",
     "output_type": "stream",
     "text": [
      "[A group, open-source software pioneers, Linux developer Linus Torvalds, an appeal, the EU Council, the legalization, software patents, Microsoft, Asian leaders, they, intellectual property rights claims, they, free Linux software, a report, Samsung, the world #39;s leading display maker, Wednesday, it, the first all-angle three-dimensional (3D) display panels, cellphones]\n"
     ]
    }
   ],
   "source": [
    "##TODO print the first 20 noun chuncks in your sample corpus (doc.noun_chunks)\n",
    "nouns = [[chunk for chunk in doc.noun_chunks] for doc in docs]\n",
    "nouns = [item for sublist in nouns for item in sublist]\n",
    "print(nouns[:20])\n"
   ]
  },
  {
   "cell_type": "markdown",
   "metadata": {},
   "source": [
    "### Named Entities\n",
    "\n",
    "Let's compute the ratio of named entities starting with a capital letter, e.g. if we have \"University of Chicago\" as a NE, \"University\" and \"Chicago\" are capitalized, \"of\" is not, thus the ratio is 2/3."
   ]
  },
  {
   "cell_type": "code",
   "execution_count": 17,
   "metadata": {},
   "outputs": [
    {
     "name": "stdout",
     "output_type": "stream",
     "text": [
      "0.6610824742268041\n"
     ]
    }
   ],
   "source": [
    "##TODO print the ratio of tokens being part of a named entity span starting with a capital letter (doc.ents)\n",
    "import numpy as np\n",
    "named_entities = [doc.ents for doc in docs]\n",
    "\n",
    "ent_capital = []\n",
    "for doc in docs:\n",
    "    for ent in doc.ents:\n",
    "        ent_capital.append([chunk.text[0].isupper() for chunk in ent])\n",
    "ent_capital = [item for sublist in ent_capital for item in sublist]\n",
    "print(np.sum(ent_capital)/len(ent_capital))"
   ]
  },
  {
   "cell_type": "code",
   "execution_count": 18,
   "metadata": {},
   "outputs": [
    {
     "name": "stdout",
     "output_type": "stream",
     "text": [
      "0.055201698513800426\n"
     ]
    }
   ],
   "source": [
    "##TODO print the ratio of capitalized tokens not being part of a named entity span\n",
    "non_ent_capital = []\n",
    "for doc in docs:\n",
    "    non_ent_capital.append([chunk.text[0].isupper() for chunk in doc \n",
    "                            if chunk.ent_type_ == \"\"])\n",
    "non_ent_capital = [item for sublist in non_ent_capital for item in sublist]\n",
    "print(np.sum(non_ent_capital)/len(non_ent_capital))\n",
    "    "
   ]
  },
  {
   "cell_type": "code",
   "execution_count": 19,
   "metadata": {},
   "outputs": [
    {
     "name": "stdout",
     "output_type": "stream",
     "text": [
      "0.03522149600580973\n"
     ]
    }
   ],
   "source": [
    "##TODO print the ratio of capitalized tokens not being a named entity and not being the first token in a sentence\n",
    "# e.g. \"The dog barks\" = 0; 3 tokens, \"The\" is capitalized but the starting token of a sentence, no other tokens are capitalized.\n",
    "non_ent_non_start_capital = []\n",
    "for doc in docs:\n",
    "    non_ent_non_start_capital.append([chunk.text[0].isupper() for chunk in doc \n",
    "                            if ((chunk.is_sent_start == False) and (chunk.ent_type_ == \"\"))])\n",
    "non_ent_non_start_capital = [item for sublist in non_ent_non_start_capital for item in sublist]\n",
    "print(np.sum(non_ent_non_start_capital)/len(non_ent_non_start_capital))"
   ]
  },
  {
   "cell_type": "markdown",
   "metadata": {},
   "source": [
    "Give an example of a capitalized token in the data which is neither a named entity nor at the start of a sentence. What could be the reason the token is capitalized (one sentence)?"
   ]
  },
  {
   "cell_type": "code",
   "execution_count": 20,
   "metadata": {},
   "outputs": [
    {
     "name": "stdout",
     "output_type": "stream",
     "text": [
      "[['Linux'], ['President'], ['Dec.12'], ['Chiefs'], ['Oil'], ['SP2'], ['Prince'], ['Wales'], ['CP'], ['DELHI'], ['Prime'], ['Minister'], ['Foreign'], ['Minister'], ['Yahoo\\\\\\\\Google'], ['Yahoo'], ['Chancellor'], ['Director'], ['After'], ['Jan.']]\n"
     ]
    }
   ],
   "source": [
    "from itertools import compress\n",
    "chunks = []\n",
    "for doc in docs:\n",
    "    chunks.append([[chunk.text] for chunk in doc \n",
    "                            if ((chunk.is_sent_start == False) and (chunk.ent_type_ == \"\"))])\n",
    "\n",
    "        \n",
    "chunks = [item for sublist in chunks for item in sublist]\n",
    "print(list(compress(chunks, non_ent_non_start_capital))[:20])\n",
    "\n",
    "# Some are falsly classified and some are just unspecified entities such as Foreign Minister or President. "
   ]
  },
  {
   "cell_type": "markdown",
   "metadata": {},
   "source": [
    "## Term Frequencies"
   ]
  },
  {
   "cell_type": "code",
   "execution_count": 21,
   "metadata": {},
   "outputs": [
    {
     "name": "stderr",
     "output_type": "stream",
     "text": [
      "/Users/elliotbeck/opt/anaconda3/lib/python3.9/site-packages/sklearn/utils/deprecation.py:87: FutureWarning: Function get_feature_names is deprecated; get_feature_names is deprecated in 1.0 and will be removed in 1.2. Please use get_feature_names_out instead.\n",
      "  warnings.warn(msg, category=FutureWarning)\n"
     ]
    },
    {
     "name": "stdout",
     "output_type": "stream",
     "text": [
      "(30000, 56)\n"
     ]
    },
    {
     "name": "stderr",
     "output_type": "stream",
     "text": [
      "/Users/elliotbeck/opt/anaconda3/lib/python3.9/site-packages/sklearn/utils/deprecation.py:87: FutureWarning: Function get_feature_names is deprecated; get_feature_names is deprecated in 1.0 and will be removed in 1.2. Please use get_feature_names_out instead.\n",
      "  warnings.warn(msg, category=FutureWarning)\n"
     ]
    },
    {
     "name": "stdout",
     "output_type": "stream",
     "text": [
      "(30000, 35)\n"
     ]
    },
    {
     "name": "stderr",
     "output_type": "stream",
     "text": [
      "/Users/elliotbeck/opt/anaconda3/lib/python3.9/site-packages/sklearn/utils/deprecation.py:87: FutureWarning: Function get_feature_names is deprecated; get_feature_names is deprecated in 1.0 and will be removed in 1.2. Please use get_feature_names_out instead.\n",
      "  warnings.warn(msg, category=FutureWarning)\n"
     ]
    },
    {
     "name": "stdout",
     "output_type": "stream",
     "text": [
      "(30000, 26)\n"
     ]
    },
    {
     "name": "stderr",
     "output_type": "stream",
     "text": [
      "/Users/elliotbeck/opt/anaconda3/lib/python3.9/site-packages/sklearn/utils/deprecation.py:87: FutureWarning: Function get_feature_names is deprecated; get_feature_names is deprecated in 1.0 and will be removed in 1.2. Please use get_feature_names_out instead.\n",
      "  warnings.warn(msg, category=FutureWarning)\n"
     ]
    },
    {
     "name": "stdout",
     "output_type": "stream",
     "text": [
      "(30000, 40)\n"
     ]
    }
   ],
   "source": [
    "from sklearn.feature_extraction.text import TfidfVectorizer\n",
    "tfidf = TfidfVectorizer(min_df=0.01, \n",
    "                        max_df=0.9,  \n",
    "                        max_features=1000,\n",
    "                        stop_words='english',\n",
    "                        use_idf=True, # the new piece\n",
    "                        ngram_range=(2,2))\n",
    "\n",
    "from wordcloud import WordCloud\n",
    "import matplotlib.pyplot as plt\n",
    "\n",
    "##TODO using the whole sample, produce a world cloud with bigrams for each label using tfidf frequencies\n",
    "for group in df[\"label\"].unique():\n",
    "    df_label = df.loc[df['label'] == group]\n",
    "    vecs = tfidf.fit_transform(list(df_label[\"text\"]))\n",
    "    feature_names = tfidf.get_feature_names()\n",
    "    dense = vecs.todense()\n",
    "    print(dense.shape)\n",
    "    lst1 = dense.tolist()\n",
    "    df_ = pd.DataFrame(lst1, columns=feature_names)\n",
    "    df_.T.sum(axis=1)\n",
    "    Cloud = WordCloud().generate_from_frequencies(df_.T.sum(axis=1))\n",
    "    Cloud.to_image().show()\n",
    "\n"
   ]
  },
  {
   "cell_type": "markdown",
   "metadata": {},
   "source": [
    "## Hash Vectorizer"
   ]
  },
  {
   "cell_type": "code",
   "execution_count": 22,
   "metadata": {},
   "outputs": [
    {
     "name": "stdout",
     "output_type": "stream",
     "text": [
      "[[0. 0. 0. ... 0. 0. 0.]\n",
      " [0. 0. 0. ... 0. 0. 0.]\n",
      " [0. 0. 0. ... 0. 0. 0.]\n",
      " ...\n",
      " [0. 0. 0. ... 0. 0. 0.]\n",
      " [0. 0. 0. ... 0. 0. 0.]\n",
      " [0. 0. 0. ... 0. 0. 0.]]\n"
     ]
    }
   ],
   "source": [
    "from sklearn.feature_extraction.text import HashingVectorizer\n",
    "import numpy as np\n",
    "\n",
    "hv = HashingVectorizer(n_features=5000, alternate_sign=False)\n",
    "\n",
    "##TODO print the first 10 features produced by the hash vectorizer\n",
    "X = hv.fit_transform(list(dfs[\"text\"]))\n",
    "X = np.array(X.todense())  # type: ignore\n",
    "print(X[:,:10])\n"
   ]
  },
  {
   "cell_type": "markdown",
   "metadata": {},
   "source": [
    "## Supervised Feature Selection"
   ]
  },
  {
   "cell_type": "code",
   "execution_count": 23,
   "metadata": {},
   "outputs": [
    {
     "name": "stdout",
     "output_type": "stream",
     "text": [
      "['x3912' 'x4126' 'x4278' 'x4314' 'x4394' 'x4425' 'x4519' 'x4544' 'x4672'\n",
      " 'x4948']\n",
      "['x785' 'x884' 'x2589' 'x2977' 'x3075' 'x3912' 'x4112' 'x4126' 'x4314'\n",
      " 'x4519']\n"
     ]
    },
    {
     "name": "stderr",
     "output_type": "stream",
     "text": [
      "/Users/elliotbeck/opt/anaconda3/lib/python3.9/site-packages/sklearn/feature_selection/_univariate_selection.py:112: UserWarning: Features [   3    4    7 ... 4996 4998 4999] are constant.\n",
      "  warnings.warn(\"Features %s are constant.\" % constant_features_idx, UserWarning)\n",
      "/Users/elliotbeck/opt/anaconda3/lib/python3.9/site-packages/sklearn/feature_selection/_univariate_selection.py:113: RuntimeWarning: divide by zero encountered in true_divide\n",
      "  f = msb / msw\n",
      "/Users/elliotbeck/opt/anaconda3/lib/python3.9/site-packages/sklearn/feature_selection/_univariate_selection.py:113: RuntimeWarning: invalid value encountered in true_divide\n",
      "  f = msb / msw\n"
     ]
    }
   ],
   "source": [
    "from sklearn.feature_selection import SelectKBest, f_classif, chi2\n",
    "\n",
    "##TODO compute the number of words per document (excluding stopwords)\n",
    "docs = nlp.pipe(dfs[\"text\"])\n",
    "num_of_words = []\n",
    "for doc in docs:\n",
    "    num_of_words_doc = []\n",
    "    num_of_words_doc.append(len([token for token in doc if not token.is_stop]))\n",
    "    num_of_words.append(num_of_words_doc)\n",
    "num_of_words = [item for sublist in num_of_words for item in sublist]    \n",
    "##TODO get the most predictive features of the number of words per document using first f_class and then chi2\n",
    "classif = SelectKBest(score_func=f_classif, k=10)\n",
    "classif.fit(X, num_of_words)\n",
    "print(classif.get_feature_names_out())\n",
    "chi2_fit = SelectKBest(score_func=chi2, k=10)\n",
    "chi2_fit.fit(X, num_of_words)\n",
    "print(chi2_fit.get_feature_names_out())\n",
    "\n"
   ]
  },
  {
   "cell_type": "markdown",
   "metadata": {},
   "source": [
    "Are the results different? What could be a reason for this? "
   ]
  },
  {
   "cell_type": "markdown",
   "metadata": {},
   "source": [
    "# C. Document Distance"
   ]
  },
  {
   "cell_type": "code",
   "execution_count": 24,
   "metadata": {},
   "outputs": [
    {
     "name": "stdout",
     "output_type": "stream",
     "text": [
      "[[0 0 0 ... 0 0 0]\n",
      " [0 0 0 ... 0 0 0]\n",
      " [0 0 0 ... 0 0 0]\n",
      " ...\n",
      " [0 0 0 ... 0 0 0]\n",
      " [0 0 0 ... 0 0 0]\n",
      " [0 0 0 ... 0 0 0]]\n"
     ]
    }
   ],
   "source": [
    "\n",
    "from sklearn.feature_extraction.text import CountVectorizer\n",
    "\n",
    "##TODO vectorize the pre-processed text using CountVectorizer\n",
    "import numpy as np\n",
    "# print(\" \".join(dfs.iloc[0,4]))\n",
    "hv = CountVectorizer()\n",
    "X = hv.fit_transform(dfs[\"text_clean\"])\n",
    "X = np.array(X.todense())  # type: ignore\n",
    "print(X[:,:10])\n"
   ]
  },
  {
   "cell_type": "markdown",
   "metadata": {},
   "source": [
    "## Cosine Similarity"
   ]
  },
  {
   "cell_type": "code",
   "execution_count": 45,
   "metadata": {},
   "outputs": [
    {
     "name": "stdout",
     "output_type": "stream",
     "text": [
      "[[1.        ]\n",
      " [0.17320508]\n",
      " [0.11858541]\n",
      " [0.09759001]]\n",
      "torvalds, open-source pioneers take on eu patent issue a group of open-source software pioneers, led by linux developer linus torvalds, has issued an appeal to the eu council to block the legalization of software patents.\n",
      "\n",
      "microsoft 'warns of linux claims' microsoft tells asian leaders that they could face intellectual property rights claims if they use free linux software, a report says.\n",
      "\n",
      "adobe releases new version of acrobat us software developer adobe systems has released adobe acrobat version 7.0, a family of desktop applications that provides a range of document portability capabilities, including converting documents into the adobe portable document format (pdf).\n",
      "\n",
      "ibm introduces  #39;world community grid #39;; public invited to donate &lt;b&gt;...&lt;/b&gt; yesterday, a biotech company in australia announced they would be sharing their line of embryonic stem cells to an  quot;open source quot; research community -- for the good of mankind, at no cost.\n",
      "\n"
     ]
    }
   ],
   "source": [
    "from sklearn.metrics.pairwise import cosine_similarity\n",
    "\n",
    "##TODO compute the cosine similarity for the first 200 snippets and for the first snippet, show the three most similar snippets and their respective cosine similarity scores\n",
    "similarities = cosine_similarity(X[:200,:], X[0,:].reshape(1,-1))\n",
    "# ind = np.argpartition(similarities.reshape(1, -1), -3)[-3:]\n",
    "ind = (-similarities.reshape(1, -1)).argsort()\n",
    "\n",
    "# only keep top 3\n",
    "ind = ind[0][:4]\n",
    "\n",
    "# similarity scores of top three\n",
    "print(similarities[ind])\n",
    "\n",
    "# print orignal sentence and the three most similar snippets \n",
    "for i in ind:\n",
    "    print(str(dfs.iloc[i,3]) + \"\\n\")"
   ]
  },
  {
   "cell_type": "markdown",
   "metadata": {},
   "source": [
    "## Clustering"
   ]
  },
  {
   "cell_type": "code",
   "execution_count": 59,
   "metadata": {},
   "outputs": [
    {
     "name": "stdout",
     "output_type": "stream",
     "text": [
      "Optimal Number of clusters: 5\n",
      "Silhouette score: 0.08771716146533987\n"
     ]
    }
   ],
   "source": [
    "from sklearn.cluster import KMeans\n",
    "from sklearn.metrics import silhouette_score\n",
    "\n",
    "##TODO create the clusters found with k-means clustering nd 10 clusters\n",
    "cluster_10 = KMeans(n_clusters=10).fit(X)\n",
    "##TODO find the optimal number of clusters in a range from 2 to 50 using the silhouette score\n",
    "silhouette_scores = []\n",
    "for i in range(2,50):\n",
    "    cluster = KMeans(n_clusters=i, random_state=0).fit(X)\n",
    "    silhouette_scores.append(silhouette_score(X, cluster.labels_))\n",
    "    \n",
    "opt_num_cluster = silhouette_scores.index(max(silhouette_scores)) + 2\n",
    "\n",
    "print(\"Optimal Number of clusters: \" + \n",
    "      str(silhouette_scores.index(max(silhouette_scores))+2))\n",
    "print(\"Silhouette score: \" + \n",
    "      str(silhouette_scores[silhouette_scores.index(max(silhouette_scores))]))\n"
   ]
  },
  {
   "cell_type": "code",
   "execution_count": 66,
   "metadata": {},
   "outputs": [
    {
     "name": "stdout",
     "output_type": "stream",
     "text": [
      "88485     world #39;s first  #39;3d #39; cell display de...\n",
      "62996     fire sweeps through caracas high-rise a fire b...\n",
      "87779     2nd round of talks on darfur concludes the sec...\n",
      "102746    sudan lifts state of emergency in north darfur...\n",
      "63509     sec investigates part of thomson financial #39...\n",
      "83926     blair to hold talks with bush in washington br...\n",
      "61529     wr grace asks to delay reorganization wr grace...\n",
      "106666    road rage was behind serb 'assassination' scar...\n",
      "20275     oil ministers to discuss gas project new delhi...\n",
      "93264     more than 15,000 species said to be facing ext...\n",
      "28977     u.s. joins new drive for northern ireland deal...\n",
      "35302     dollar regains some ground lost  tokyo (reuter...\n",
      "23118     realnetworks sells three million songs through...\n",
      "3194      update 1: sprint signs \\$3 billion wireless pa...\n",
      "60647     learning 2nd language changes brain anatomy -s...\n",
      "20502     fleetwood 1q profit sharply higher fleetwood e...\n",
      "15743     hollinger panel says owners took cash  new yor...\n",
      "83072     verizon  to buy nextwave licenses verizon wire...\n",
      "62756     annan: iraq war hasn't made world safer london...\n",
      "67242     at t posts \\$7.1 billion loss on writedown &lt...\n",
      "101255    champions league: group f - celtic make great ...\n",
      "41005     7 students killed in greek crash a bus taking ...\n",
      "31472     ubs to buy julius baer u.s. business (reuters)...\n",
      "86049     teck cominco to appeal u.s. pollution ruling (...\n",
      "98726     netherlands ing to sell baring activities dutc...\n",
      "48893     twins hit road again ben broussard hit a two-r...\n",
      "75752     algeria's most-wanted militant taken into cust...\n",
      "26499     sony group agrees to buy mgm  philadelphia/los...\n",
      "103656    china to control power plant investments china...\n",
      "11191     ibm buying venetica ibm signed a definitive ag...\n",
      "36761     us warplanes attack insurgents in east baghdad...\n",
      "10248     potlatch to sell minnesota strand board operat...\n",
      "86298     china netcom raises \\$1.14 bln in ipo for expa...\n",
      "13660     clashes break out in lebanon refugee camp (ap)...\n",
      "87983     uk says to evacuate 400 britons from ivory coa...\n",
      "65680     porsche wants to cut jobs, extend working hour...\n",
      "31084     update 1: higher ticket prices spur carnival p...\n",
      "80808     goldman, ford settle ipo allocation dispute go...\n",
      "Name: text, dtype: object\n",
      "###############################################\n",
      "67242    at t posts \\$7.1 billion loss on writedown &lt...\n",
      "Name: text, dtype: object\n"
     ]
    }
   ],
   "source": [
    "##TODO create the clusters using the opitmal number of clusters obtained before\n",
    "cluster_opt = KMeans(n_clusters=opt_num_cluster).fit(X)\n",
    "##TODO compare the documents in cluster \"1\" under the two specifications, does the cluster look cleaner after having searched for the optimal number of clusters?\n",
    "print(dfs.loc[cluster_opt.labels_==1, \"text\"])\n",
    "print(\"###############################################\")\n",
    "print(dfs.loc[cluster_10.labels_==1, \"text\"])\n"
   ]
  }
 ],
 "metadata": {
  "kernelspec": {
   "display_name": "base",
   "language": "python",
   "name": "python3"
  },
  "language_info": {
   "codemirror_mode": {
    "name": "ipython",
    "version": 3
   },
   "file_extension": ".py",
   "mimetype": "text/x-python",
   "name": "python",
   "nbconvert_exporter": "python",
   "pygments_lexer": "ipython3",
   "version": "3.9.13"
  },
  "toc": {
   "base_numbering": 1,
   "nav_menu": {},
   "number_sections": true,
   "sideBar": true,
   "skip_h1_title": false,
   "title_cell": "Table of Contents",
   "title_sidebar": "Contents",
   "toc_cell": false,
   "toc_position": {},
   "toc_section_display": true,
   "toc_window_display": false
  },
  "vscode": {
   "interpreter": {
    "hash": "7847a2e259535c6ee3594af5f07a48848165b814e08df174595330ed14ca1dac"
   }
  }
 },
 "nbformat": 4,
 "nbformat_minor": 4
}
